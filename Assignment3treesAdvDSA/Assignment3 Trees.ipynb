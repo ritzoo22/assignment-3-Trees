{
 "cells": [
  {
   "cell_type": "markdown",
   "id": "f540977e",
   "metadata": {},
   "source": [
    "Q.1.)Implement Binary tree"
   ]
  },
  {
   "cell_type": "code",
   "execution_count": 43,
   "id": "04128750",
   "metadata": {},
   "outputs": [
    {
     "name": "stdout",
     "output_type": "stream",
     "text": [
      "Tejashri--Papa--Kedar\n"
     ]
    }
   ],
   "source": [
    "class Node:\n",
    "    def __init__(self,left,right,data):\n",
    "        self.left=left\n",
    "        self.right=right\n",
    "        self.data=data\n",
    "    \n",
    "    def __str__(self):\n",
    "        return '{}--{}--{}'.format(self.left.data,self.data,self.right.data)\n",
    "    \n",
    "root_node=Node(None,None,\"Papa\")\n",
    "node1=Node(None,None,\"Tejashri\")\n",
    "node2=Node(None,None,\"Kedar\")\n",
    "root_node.left=node1\n",
    "root_node.right=node2\n",
    "print(root_node)\n",
    "#print(root_node.data)\n",
    "#print(root_node.left) ##this will give an error\n",
    "# print(root_node.left.data)\n",
    "# print(root_node.right.data)"
   ]
  },
  {
   "cell_type": "markdown",
   "id": "a0cd1f6c",
   "metadata": {},
   "source": [
    "Q.2.)Find height of a given tree\n"
   ]
  },
  {
   "cell_type": "code",
   "execution_count": 44,
   "id": "23e97e8b",
   "metadata": {},
   "outputs": [
    {
     "name": "stdout",
     "output_type": "stream",
     "text": [
      "Height of the binary tree is:\n",
      "3\n"
     ]
    }
   ],
   "source": [
    "class BinaryTreeNode:\n",
    "    def __init__(self, data):\n",
    "        self.data = data\n",
    "        self.leftChild = None\n",
    "        self.rightChild = None\n",
    "  \n",
    "\n",
    "    def height(root):\n",
    "        if root is None:\n",
    "            return 0\n",
    "            leftHeight=height(root.leftChild)\n",
    "            rightHeight=height(root.rightChild)\n",
    "        max_height= leftHeight\n",
    "        if rightHeight>max_height:\n",
    "            max_height = rightHeight\n",
    "        return max_height+1\n",
    "\n",
    "\n",
    "    def insert(root, newValue):\n",
    "    # if binary search tree is empty, create a new node and declare it as root\n",
    "        if root is None:\n",
    "            root = BinaryTreeNode(newValue)\n",
    "            return root\n",
    "    # if newValue is less than value of data in root, add it to left subtree and proceed recursively\n",
    "        if newValue < root.data:\n",
    "            root.leftChild = insert(root.leftChild, newValue)\n",
    "        else:\n",
    "        # if newValue is greater than value of data in root, add it to right subtree and proceed recursively\n",
    "            root.rightChild = insert(root.rightChild, newValue)\n",
    "        return root\n",
    "\n",
    "\n",
    "root = insert(None, 50)\n",
    "insert(root, 20)\n",
    "insert(root, 53)\n",
    "insert(root, 11)\n",
    "insert(root, 22)\n",
    "insert(root, 52)\n",
    "insert(root, 78)\n",
    "print(\"Height of the binary tree is:\")\n",
    "print(height(root))"
   ]
  },
  {
   "cell_type": "code",
   "execution_count": 40,
   "id": "0309d20e",
   "metadata": {},
   "outputs": [
    {
     "name": "stdout",
     "output_type": "stream",
     "text": [
      "4\n",
      "34 21 11 20\n",
      "Height 3\n"
     ]
    }
   ],
   "source": [
    "class Node:\n",
    "    def __init__(self, info): \n",
    "        self.info = info  \n",
    "        self.left = None  \n",
    "        self.right = None \n",
    "        self.level = None \n",
    "\n",
    "    def __str__(self):\n",
    "        return str(self.info) \n",
    "\n",
    "class BinarySearchTree:\n",
    "    def __init__(self): \n",
    "        self.root = None\n",
    "\n",
    "    def create(self, val):  \n",
    "        if self.root == None:\n",
    "            self.root = Node(val)\n",
    "        else:\n",
    "            current = self.root\n",
    "         \n",
    "            while True:\n",
    "                if val < current.info:\n",
    "                    if current.left:\n",
    "                        current = current.left\n",
    "                    else:\n",
    "                        current.left = Node(val)\n",
    "                        break\n",
    "                elif val > current.info:\n",
    "                    if current.right:\n",
    "                        current = current.right\n",
    "                    else:\n",
    "                        current.right = Node(val)\n",
    "                        break\n",
    "                else:\n",
    "                    break\n",
    "def height(root):\n",
    "    if root is None:\n",
    "        return -1\n",
    "    else:\n",
    "        return 1+max(height(root.left),height(root.right))\n",
    "\n",
    "\n",
    "tree = BinarySearchTree()\n",
    "t = int(input())\n",
    "\n",
    "arr = list(map(int, input().split()))\n",
    "\n",
    "for i in range(t):\n",
    "    tree.create(arr[i])\n",
    "\n",
    "print(\"Height\",height(tree.root))\n",
    "        "
   ]
  },
  {
   "cell_type": "markdown",
   "id": "c6432b1b",
   "metadata": {},
   "source": [
    "Q.3.)Perform Pre-order, Post-order, In-order traversal"
   ]
  },
  {
   "cell_type": "code",
   "execution_count": 36,
   "id": "34859419",
   "metadata": {},
   "outputs": [
    {
     "name": "stdout",
     "output_type": "stream",
     "text": [
      "Inorder traversal \n",
      "4->2->5->1->3->\n",
      "Preorder traversal \n",
      "1->2->4->5->3->\n",
      "Postorder traversal \n",
      "4->5->2->3->1->"
     ]
    }
   ],
   "source": [
    "class Node:\n",
    "    def __init__(self, item):\n",
    "        self.left = None\n",
    "        self.right = None\n",
    "        self.val = item\n",
    "\n",
    "\n",
    "def inorder(root):\n",
    "\n",
    "    if root:\n",
    "        inorder(root.left)\n",
    "        print(str(root.val) + \"->\", end='')\n",
    "        inorder(root.right)\n",
    "\n",
    "\n",
    "def postorder(root):\n",
    "\n",
    "    if root:\n",
    "        postorder(root.left)\n",
    "        postorder(root.right)\n",
    "        print(str(root.val) + \"->\", end='')\n",
    "\n",
    "\n",
    "def preorder(root):\n",
    "\n",
    "    if root:\n",
    "        print(str(root.val) + \"->\", end='')\n",
    "        preorder(root.left)\n",
    "        preorder(root.right)\n",
    "\n",
    "\n",
    "root = Node(1)\n",
    "root.left = Node(2)\n",
    "root.right = Node(3)\n",
    "root.left.left = Node(4)\n",
    "root.left.right = Node(5)\n",
    "\n",
    "print(\"Inorder traversal \")\n",
    "inorder(root)\n",
    "\n",
    "print(\"\\nPreorder traversal \")\n",
    "preorder(root)\n",
    "\n",
    "print(\"\\nPostorder traversal \")\n",
    "postorder(root)"
   ]
  },
  {
   "cell_type": "markdown",
   "id": "2c177e9d",
   "metadata": {},
   "source": [
    "Q.4.)Function to print all the leaves in a given binary tree"
   ]
  },
  {
   "cell_type": "code",
   "execution_count": 35,
   "id": "66ccd6bb",
   "metadata": {},
   "outputs": [
    {
     "name": "stdout",
     "output_type": "stream",
     "text": [
      "4 6 7 9 10 "
     ]
    }
   ],
   "source": [
    "class Node:\n",
    "   \n",
    "    def __init__(self, data):\n",
    "        self.data = data\n",
    "        self.left = None\n",
    "        self.right = None\n",
    "        \n",
    "def printLeafNodes(root: Node) -> None:\n",
    "    if (not root):\n",
    "        return\n",
    "    if (not root.left and\n",
    "        not root.right):\n",
    "        print(root.data,\n",
    "              end = \" \")\n",
    "        return\n",
    " \n",
    "    if root.left:\n",
    "        printLeafNodes(root.left)\n",
    " \n",
    "    if root.right:\n",
    "        printLeafNodes(root.right)\n",
    " \n",
    "if __name__ == \"__main__\":\n",
    " \n",
    "    root = Node(1)\n",
    "    root.left = Node(2)\n",
    "    root.right = Node(3)\n",
    "    root.left.left = Node(4)\n",
    "    root.right.left = Node(5)\n",
    "    root.right.right = Node(8)\n",
    "    root.right.left.left = Node(6)\n",
    "    root.right.left.right = Node(7)\n",
    "    root.right.right.left = Node(9)\n",
    "    root.right.right.right = Node(10)\n",
    " \n",
    "    printLeafNodes(root)\n",
    " "
   ]
  },
  {
   "cell_type": "markdown",
   "id": "61083b04",
   "metadata": {},
   "source": [
    "Q.5.)Implement BFS (Breath First Search) and DFS (Depth First Search)\n"
   ]
  },
  {
   "cell_type": "code",
   "execution_count": 39,
   "id": "e6af8f47",
   "metadata": {},
   "outputs": [
    {
     "name": "stdout",
     "output_type": "stream",
     "text": [
      "Following is Breadth First Traversal: \n",
      "0 1 2 3 "
     ]
    }
   ],
   "source": [
    "import collections\n",
    "def bfs(graph, root):\n",
    "    visited, queue = set(), collections.deque([root])\n",
    "    visited.add(root)\n",
    "\n",
    "    while queue:\n",
    "        vertex = queue.popleft()\n",
    "        print(str(vertex) + \" \", end=\"\")\n",
    "        \n",
    "        for neighbour in graph[vertex]:\n",
    "            if neighbour not in visited:\n",
    "                visited.add(neighbour)\n",
    "                queue.append(neighbour)\n",
    "\n",
    "\n",
    "if __name__ == '__main__':\n",
    "    graph = {0: [1, 2], 1: [2], 2: [3], 3: [1, 2]}\n",
    "    print(\"Following is Breadth First Traversal: \")\n",
    "    bfs(graph, 0)\n"
   ]
  },
  {
   "cell_type": "code",
   "execution_count": 41,
   "id": "131c854a",
   "metadata": {},
   "outputs": [
    {
     "name": "stdout",
     "output_type": "stream",
     "text": [
      "0\n",
      "2\n",
      "1\n",
      "3\n",
      "4\n"
     ]
    },
    {
     "data": {
      "text/plain": [
       "{'0', '1', '2', '3', '4'}"
      ]
     },
     "execution_count": 41,
     "metadata": {},
     "output_type": "execute_result"
    }
   ],
   "source": [
    "def dfs(graph, start, visited=None):\n",
    "    if visited is None:\n",
    "        visited = set()\n",
    "    visited.add(start)\n",
    "\n",
    "    print(start)\n",
    "\n",
    "    for next in graph[start] - visited:\n",
    "        dfs(graph, next, visited)\n",
    "    return visited\n",
    "\n",
    "\n",
    "graph = {'0': set(['1', '2']),\n",
    "         '1': set(['0', '3', '4']),\n",
    "         '2': set(['0']),\n",
    "         '3': set(['1']),\n",
    "         '4': set(['2', '3'])}\n",
    "\n",
    "dfs(graph, '0')"
   ]
  },
  {
   "cell_type": "markdown",
   "id": "fb614d10",
   "metadata": {},
   "source": [
    "Q.6.)Find sum of all left leaves in a given Binary Tree"
   ]
  },
  {
   "cell_type": "code",
   "execution_count": 33,
   "id": "da3ee8eb",
   "metadata": {},
   "outputs": [
    {
     "name": "stdout",
     "output_type": "stream",
     "text": [
      "Sum of left leaves is 58\n"
     ]
    }
   ],
   "source": [
    "class Node:\n",
    "    \n",
    "    def __init__(self, key):\n",
    "        self.key = key\n",
    "        self.left = None\n",
    "        self.right = None\n",
    " \n",
    "\n",
    "def isLeaf(node):\n",
    "    if node is None:\n",
    "        return False\n",
    "    if node.left is None and node.right is None:\n",
    "        return True\n",
    "    return False\n",
    "\n",
    "def leftLeavesSum(root):\n",
    "\n",
    "    res = 0\n",
    "\n",
    "    if root is not None:\n",
    " \n",
    "        if isLeaf(root.left):\n",
    "            res += root.left.key\n",
    "        else:\n",
    "            \n",
    "            res += leftLeavesSum(root.left)\n",
    " \n",
    "     \n",
    "        res += leftLeavesSum(root.right)\n",
    "    return res\n",
    "\n",
    "root = Node(20)\n",
    "root.left = Node(9)\n",
    "root.right = Node(49)\n",
    "root.right.left = Node(3)       \n",
    "root.right.right = Node(52)\n",
    "root.right.right.left = Node(50)\n",
    "root.left.left = Node(5)\n",
    "root.left.right = Node(12)\n",
    "root.left.right.right = Node(12)\n",
    "print (\"Sum of left leaves is\", leftLeavesSum(root))"
   ]
  },
  {
   "cell_type": "markdown",
   "id": "0a55e0db",
   "metadata": {},
   "source": [
    "Q.7.)Find sum of all nodes of the given perfect binary tree"
   ]
  },
  {
   "cell_type": "code",
   "execution_count": 31,
   "id": "f95402f7",
   "metadata": {},
   "outputs": [
    {
     "name": "stdout",
     "output_type": "stream",
     "text": [
      "30\n"
     ]
    }
   ],
   "source": [
    "def SumNodes(l):\n",
    "    leafNodeCount = pow(2, l - 1)\n",
    "    vec = [[] for i in range(l)]\n",
    "\n",
    "    for i in range(1, leafNodeCount + 1):\n",
    "        vec[l - 1].append(i)\n",
    " \n",
    "\n",
    "    for i in range(l - 2, -1, -1):\n",
    "        k = 0\n",
    " \n",
    "        while (k < len(vec[i + 1]) - 1):\n",
    " \n",
    "            vec[i].append(vec[i + 1][k] +\n",
    "                          vec[i + 1][k + 1])\n",
    "            k += 2\n",
    " \n",
    "    Sum = 0\n",
    " \n",
    "  \n",
    "    for i in range(l):\n",
    "        for j in range(len(vec[i])):\n",
    "            Sum += vec[i][j]\n",
    " \n",
    "    return Sum\n",
    " \n",
    "\n",
    "if __name__ == '__main__':\n",
    "    l = 3\n",
    " \n",
    "    print(SumNodes(l))"
   ]
  },
  {
   "cell_type": "markdown",
   "id": "745d0f1b",
   "metadata": {},
   "source": [
    "Q.8.)Count subtress that sum up to a given value x in a binary tree"
   ]
  },
  {
   "cell_type": "code",
   "execution_count": 34,
   "id": "3712fac5",
   "metadata": {},
   "outputs": [
    {
     "name": "stdout",
     "output_type": "stream",
     "text": [
      "Count = 2\n"
     ]
    }
   ],
   "source": [
    "class getNode:\n",
    "    def __init__(self, data):\n",
    "        self.data = data\n",
    "        self.left = self.right = None\n",
    "         \n",
    "\n",
    "def countSubtreesWithSumX(root, count, x):\n",
    "    if (not root):\n",
    "        return 0\n",
    " \n",
    "    ls = countSubtreesWithSumX(root.left,\n",
    "                               count, x)\n",
    " \n",
    "    \n",
    "    rs = countSubtreesWithSumX(root.right,\n",
    "                               count, x)\n",
    " \n",
    "    Sum = ls + rs + root.data\n",
    " \n",
    "   \n",
    "    if (Sum == x):\n",
    "        count[0] += 1\n",
    " \n",
    "    return Sum\n",
    " \n",
    "\n",
    "def countSubtreesWithSumXUtil(root, x):\n",
    "     \n",
    "    \n",
    "    if (not root):\n",
    "        return 0\n",
    " \n",
    "    count = [0]\n",
    " \n",
    "    ls = countSubtreesWithSumX(root.left,\n",
    "                               count, x)\n",
    "\n",
    "    rs = countSubtreesWithSumX(root.right,\n",
    "                               count, x)\n",
    " \n",
    "  \n",
    "    if ((ls + rs + root.data) == x):\n",
    "        count[0] += 1\n",
    " \n",
    "    return count[0]\n",
    " \n",
    "if __name__ == '__main__':\n",
    "     \n",
    "   \n",
    "    root = getNode(5)\n",
    "    root.left = getNode(-10)\n",
    "    root.right = getNode(3)\n",
    "    root.left.left = getNode(9)\n",
    "    root.left.right = getNode(8)\n",
    "    root.right.left = getNode(-4)\n",
    "    root.right.right = getNode(7)\n",
    " \n",
    "    x = 7\n",
    " \n",
    "    print(\"Count =\",\n",
    "           countSubtreesWithSumXUtil(root, x))\n"
   ]
  },
  {
   "cell_type": "markdown",
   "id": "137bedf2",
   "metadata": {},
   "source": [
    "Q.9.)Find maximum level sum in Binary Tree\n"
   ]
  },
  {
   "cell_type": "code",
   "execution_count": 5,
   "id": "3b3c626a",
   "metadata": {},
   "outputs": [
    {
     "name": "stdout",
     "output_type": "stream",
     "text": [
      "Maximum level sum is 17\n"
     ]
    }
   ],
   "source": [
    "from collections import deque\n",
    "\n",
    "class Node:\n",
    "     \n",
    "    def __init__(self, key):\n",
    "         \n",
    "        self.data = key\n",
    "        self.left = None\n",
    "        self.right = None\n",
    " \n",
    "def maxLevelSum(root):\n",
    "     \n",
    "    if (root == None):\n",
    "        return 0\n",
    "\n",
    "  \n",
    "    result = root.data\n",
    "     \n",
    "    \n",
    "    q = deque()\n",
    "    q.append(root)\n",
    "     \n",
    "    while (len(q) > 0):\n",
    "        count = len(q)\n",
    "        sum = 0\n",
    "        while (count > 0):\n",
    "            \n",
    "            temp = q.popleft()\n",
    " \n",
    "            sum = sum + temp.data\n",
    " \n",
    "            \n",
    "            if (temp.left != None):\n",
    "                q.append(temp.left)\n",
    "            if (temp.right != None):\n",
    "                q.append(temp.right)\n",
    "                 \n",
    "            count -= 1   \n",
    " \n",
    "    \n",
    "        result = max(sum, result)\n",
    " \n",
    "    return result\n",
    "\n",
    "if __name__ == '__main__':\n",
    "     \n",
    "    root = Node(1)\n",
    "    root.left = Node(2)\n",
    "    root.right = Node(3)\n",
    "    root.left.left = Node(4)\n",
    "    root.left.right = Node(5)\n",
    "    root.right.right = Node(8)\n",
    "    root.right.right.left = Node(6)\n",
    "    root.right.right.right = Node(7)\n",
    "    print(\"Maximum level sum is\", maxLevelSum(root))"
   ]
  },
  {
   "cell_type": "markdown",
   "id": "1c472d4a",
   "metadata": {},
   "source": [
    "Q.10.)Print the nodes at odd levels of a tree"
   ]
  },
  {
   "cell_type": "code",
   "execution_count": 3,
   "id": "6ad6e600",
   "metadata": {},
   "outputs": [
    {
     "name": "stdout",
     "output_type": "stream",
     "text": [
      "1 4 5 "
     ]
    }
   ],
   "source": [
    "class newNode: \n",
    "    def __init__(self, data): \n",
    "        self.data = data  \n",
    "        self.left = self.right = None\n",
    "  \n",
    "def printOddNodes(root, isOdd = True): \n",
    "      \n",
    "    if (root == None):  \n",
    "        return\n",
    "    \n",
    "    if (isOdd):  \n",
    "        print(root.data, end = \" \") \n",
    "  \n",
    "   \n",
    "    printOddNodes(root.left, not isOdd)  \n",
    "    printOddNodes(root.right, not isOdd) \n",
    "  \n",
    "\n",
    "if __name__ == '__main__': \n",
    "    root = newNode(1)  \n",
    "    root.left = newNode(2)  \n",
    "    root.right = newNode(3)  \n",
    "    root.left.left = newNode(4)  \n",
    "    root.left.right = newNode(5)  \n",
    "    printOddNodes(root) "
   ]
  },
  {
   "cell_type": "code",
   "execution_count": null,
   "id": "832c6ed3",
   "metadata": {},
   "outputs": [],
   "source": []
  },
  {
   "cell_type": "code",
   "execution_count": null,
   "id": "3b098a20",
   "metadata": {},
   "outputs": [],
   "source": []
  }
 ],
 "metadata": {
  "kernelspec": {
   "display_name": "Python 3 (ipykernel)",
   "language": "python",
   "name": "python3"
  },
  "language_info": {
   "codemirror_mode": {
    "name": "ipython",
    "version": 3
   },
   "file_extension": ".py",
   "mimetype": "text/x-python",
   "name": "python",
   "nbconvert_exporter": "python",
   "pygments_lexer": "ipython3",
   "version": "3.10.1"
  }
 },
 "nbformat": 4,
 "nbformat_minor": 5
}
